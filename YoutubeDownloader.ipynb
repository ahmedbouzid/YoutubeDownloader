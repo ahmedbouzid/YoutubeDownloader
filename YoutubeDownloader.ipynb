{
  "nbformat": 4,
  "nbformat_minor": 0,
  "metadata": {
    "colab": {
      "provenance": [],
      "authorship_tag": "ABX9TyMoy+WfCcM6WwX/vEGYfkt9",
      "include_colab_link": true
    },
    "kernelspec": {
      "name": "python3",
      "display_name": "Python 3"
    },
    "language_info": {
      "name": "python"
    }
  },
  "cells": [
    {
      "cell_type": "markdown",
      "metadata": {
        "id": "view-in-github",
        "colab_type": "text"
      },
      "source": [
        "<a href=\"https://colab.research.google.com/github/ahmedbouzid/YoutubeDownloader/blob/main/YoutubeDownloader.ipynb\" target=\"_parent\"><img src=\"https://colab.research.google.com/assets/colab-badge.svg\" alt=\"Open In Colab\"/></a>"
      ]
    },
    {
      "cell_type": "markdown",
      "source": [
        "* # Youtube downloader"
      ],
      "metadata": {
        "id": "I3sekXPCTxt0"
      }
    },
    {
      "cell_type": "code",
      "execution_count": 3,
      "metadata": {
        "colab": {
          "base_uri": "https://localhost:8080/"
        },
        "id": "_0CIjxEiTfaC",
        "outputId": "847f6f45-897c-4af9-ceb1-a9028a1c07c9"
      },
      "outputs": [
        {
          "output_type": "stream",
          "name": "stdout",
          "text": [
            "Looking in indexes: https://pypi.org/simple, https://us-python.pkg.dev/colab-wheels/public/simple/\n",
            "Requirement already satisfied: pytube in /usr/local/lib/python3.10/dist-packages (15.0.0)\n",
            "Entrez l'URL de la vidéo YouTube : https://youtu.be/GY4rEmG2Rh0\n",
            "Entrez l'emplacement de sauvegarde : C:\\HTMLCSSPROject\\starter\n",
            "La vidéo a été téléchargée avec succès !\n"
          ]
        }
      ],
      "source": [
        "!pip install pytube\n",
        "\n",
        "from pytube import YouTube\n",
        "\n",
        "# Fonction pour télécharger une vidéo YouTube\n",
        "def telecharger_video(url, emplacement):\n",
        "    try:\n",
        "        yt = YouTube(url)\n",
        "        video = yt.streams.first()\n",
        "        video.download(emplacement)\n",
        "        print(\"La vidéo a été téléchargée avec succès !\")\n",
        "    except Exception as e:\n",
        "        print(\"Une erreur est survenue lors du téléchargement :\", str(e))\n",
        "\n",
        "# Demande à l'utilisateur de saisir l'URL de la vidéo et l'emplacement de sauvegarde\n",
        "url = input(\"Entrez l'URL de la vidéo YouTube : \")\n",
        "emplacement = input(\"Entrez l'emplacement de sauvegarde : \")\n",
        "\n",
        "# Appelle la fonction de téléchargement\n",
        "telecharger_video(url, emplacement)"
      ]
    }
  ]
}